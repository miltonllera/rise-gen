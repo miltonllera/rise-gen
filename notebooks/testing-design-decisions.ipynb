{
 "cells": [
  {
   "cell_type": "code",
   "execution_count": 1,
   "id": "8b1a5172-4af0-4677-8158-58f4943c080e",
   "metadata": {},
   "outputs": [
    {
     "data": {
      "text/plain": [
       "PosixPath('/Users/mlle/Repos/grow-ai/rise-gen')"
      ]
     },
     "execution_count": 1,
     "metadata": {},
     "output_type": "execute_result"
    }
   ],
   "source": [
    "import os.path as osp\n",
    "import pyrootutils\n",
    "\n",
    "pyrootutils.setup_root(\n",
    "    search_from=osp.abspath(''),\n",
    "    indicator=[\".git\", \"pyproject.toml\"],\n",
    "    pythonpath=True,  # add to system path\n",
    "    dotenv=True,      # load environment variables .env file\n",
    "    cwd=True,         # change cwd to root\n",
    ")"
   ]
  },
  {
   "cell_type": "code",
   "execution_count": 23,
   "id": "0124bc54-44d8-4a1b-a984-8b75e6cd0186",
   "metadata": {},
   "outputs": [
    {
     "data": {
      "text/plain": [
       "torch.Size([8, 10, 64, 64, 64])"
      ]
     },
     "execution_count": 23,
     "metadata": {},
     "output_type": "execute_result"
    }
   ],
   "source": [
    "from synthetic.dataset import StarRobotDataset\n",
    "from torch.utils.data import DataLoader\n",
    "\n",
    "dataset = StarRobotDataset(100000, 1, 3, 8, 64)\n",
    "dataloader = DataLoader(\n",
    "    dataset=dataset,\n",
    "    batch_size=8kj,\n",
    ")\n",
    "\n",
    "next(iter(dataloader)).shap"
   ]
  },
  {
   "cell_type": "code",
   "execution_count": 9,
   "id": "919f3059-5dec-4fc3-92b8-b450c34da811",
   "metadata": {},
   "outputs": [],
   "source": [
    "import torch\n",
    "import matplotlib.pyplot as plt\n",
    "\n",
    "from model.vae.vnca import VNCA\n",
    "from sim.builder import SimBuilder\n",
    "import utils.plot as viz\n",
    "\n",
    "torch.autograd.set_grad_enabled(False);"
   ]
  },
  {
   "cell_type": "code",
   "execution_count": 8,
   "id": "07d9df06-8223-4b34-83ad-e00db25bccee",
   "metadata": {},
   "outputs": [
    {
     "name": "stdout",
     "output_type": "stream",
     "text": [
      "NCADecoder(\n",
      "  (nca): NCA(\n",
      "    (update_net): Sequential(\n",
      "      (0): Conv3d(64, 128, kernel_size=(3, 3, 3), stride=(1, 1, 1), padding=(1, 1, 1))\n",
      "      (1): Residual(\n",
      "        (0): Conv3d(128, 128, kernel_size=(1, 1, 1), stride=(1, 1, 1))\n",
      "        (1): ELU(alpha=1.0)\n",
      "        (2): Conv3d(128, 128, kernel_size=(1, 1, 1), stride=(1, 1, 1))\n",
      "      )\n",
      "      (2): Residual(\n",
      "        (0): Conv3d(128, 128, kernel_size=(1, 1, 1), stride=(1, 1, 1))\n",
      "        (1): ELU(alpha=1.0)\n",
      "        (2): Conv3d(128, 128, kernel_size=(1, 1, 1), stride=(1, 1, 1))\n",
      "      )\n",
      "      (3): Conv3d(128, 64, kernel_size=(1, 1, 1), stride=(1, 1, 1))\n",
      "    )\n",
      "    (norm_update): Identity()\n",
      "  )\n",
      "  (upsample): Upsample(scale_factor=2.0, mode='nearest')\n",
      "  (output_fun): Linear(in_features=64, out_features=10, bias=False)\n",
      ")\n"
     ]
    }
   ],
   "source": [
    "vnca = VNCA(\n",
    "    z_dim=512,\n",
    "    max_num_nodes=8,\n",
    "    grid_size=32,\n",
    "    vrn_dim=32,\n",
    "    vrn_depth=5,\n",
    "    conv_layers=3,\n",
    "    state_dim=64,\n",
    "    nca_hid=128,\n",
    "    nca_layers=2,\n",
    "    init_resolution=2,\n",
    "    position_dependent_cell_init=True,\n",
    "    condition_nca=True,\n",
    ")\n",
    "\n",
    "print(vnca.decoder)"
   ]
  },
  {
   "cell_type": "code",
   "execution_count": null,
   "id": "f490238b-628b-4fc7-8b59-831dbb0c8351",
   "metadata": {},
   "outputs": [],
   "source": [
    "\n"
   ]
  }
 ],
 "metadata": {
  "kernelspec": {
   "display_name": "Python 3 (ipykernel)",
   "language": "python",
   "name": "python3"
  },
  "language_info": {
   "codemirror_mode": {
    "name": "ipython",
    "version": 3
   },
   "file_extension": ".py",
   "mimetype": "text/x-python",
   "name": "python",
   "nbconvert_exporter": "python",
   "pygments_lexer": "ipython3",
   "version": "3.12.8"
  }
 },
 "nbformat": 4,
 "nbformat_minor": 5
}
